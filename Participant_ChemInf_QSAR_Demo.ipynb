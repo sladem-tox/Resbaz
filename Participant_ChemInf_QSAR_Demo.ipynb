{
  "cells": [
    {
      "cell_type": "markdown",
      "metadata": {
        "id": "view-in-github",
        "colab_type": "text"
      },
      "source": [
        "<a href=\"https://colab.research.google.com/github/sladem-tox/Resbaz/blob/main/Participant_ChemInf_QSAR_Demo.ipynb\" target=\"_parent\"><img src=\"https://colab.research.google.com/assets/colab-badge.svg\" alt=\"Open In Colab\"/></a>"
      ]
    },
    {
      "cell_type": "markdown",
      "metadata": {
        "id": "dYKTSDP8zEjg"
      },
      "source": [
        "# Chapter 0: Demonstration of Cheminformatic and QSAR workflow for ResBaz\n",
        "`Dr. Slade Matthews, The University of Sydney, 2023`"
      ]
    },
    {
      "cell_type": "markdown",
      "source": [
        "Computational methods in pharmacology and toxicology have matured!"
      ],
      "metadata": {
        "id": "-aFvGuYtndp5"
      }
    },
    {
      "cell_type": "markdown",
      "source": [
        "<img src=\"https://github.com/sladem-tox/Resbaz-slade/blob/main/ChemResTox_AI_Cover2023.jpg?raw=true\" alt=\"ChemResTox Cover\" width=\"600\" height=\"700\"/>"
      ],
      "metadata": {
        "id": "FJAfDXyHgRMj"
      }
    },
    {
      "cell_type": "markdown",
      "metadata": {
        "id": "Zf8T1s6hx6HJ"
      },
      "source": [
        "In today's workshop demonstration we will take a group of molecules from a publihsed paper and try to model the activity relationship contained in the experimental data.\n",
        "\n",
        "<b>Today we will perform the following steps:</b>\n",
        "\n",
        "1.   Get chemical data from Github\n",
        "2.   Calculate chemical fingerprints from SMILES representations\n",
        "3.   Generate model to predict psychedelic activity\n",
        "\n",
        "The paper we are looking at is\n",
        "<b>Keshavarz, M.H., Z. Shirazi, and M.A. Rezayat, A simple method for assessing the psychotomimetic activity of the substituted phenethylamines. Zeitschrift für anorganische und allgemeine Chemie, 2021. 647(6): p. 651-662.</b>\n",
        "\n",
        "\n",
        "\n",
        "\n",
        "\n",
        "\n"
      ]
    },
    {
      "cell_type": "markdown",
      "source": [
        "<img src=\"https://github.com/sladem-tox/Resbaz-slade/blob/main/Keshharvarz_masthead.jpg?raw=true\" alt=\"Keshharvarz Masthead\" width=\"800\"/>"
      ],
      "metadata": {
        "id": "1AMgJNEpgAla"
      }
    },
    {
      "cell_type": "markdown",
      "metadata": {
        "id": "hpK241QPb3WH"
      },
      "source": [
        "From this paper we get a list of phenethylamines and their associated activity values expressed as LogA (LogMU) which is the log of the activity in mescaline units. This is defined as the ratio of the effective dose of mescaline to the effective dose of the tested compound (See Thakur et al., 2003*). Meaning that a large value indicates more potency (because the effective mescaline dose is divided by a smaller value). Of course some studies use binding values for 5HT-2A receptors rather than effective hallucinogenic doses but this seems like more fun."
      ]
    },
    {
      "cell_type": "markdown",
      "source": [
        "<img src=\"https://github.com/sladem-tox/Resbaz-slade/blob/main/Psychedelic_Drugs.jpg?raw=true\" alt=\"Psychedelic Drugs\" width=\"600\"/>"
      ],
      "metadata": {
        "id": "WaCFpDsDfsJW"
      }
    },
    {
      "cell_type": "markdown",
      "metadata": {
        "id": "UmYrDE253Irk"
      },
      "source": [
        "Image Source: https://www.axios.com/2023/06/26/fda-guidance-psychedelic-drugs-lsd-mushrooms"
      ]
    },
    {
      "cell_type": "markdown",
      "metadata": {
        "id": "tmBZzVyJdLqc"
      },
      "source": [
        "# Chapter 1: Get the Data"
      ]
    },
    {
      "cell_type": "code",
      "execution_count": null,
      "metadata": {
        "id": "wGw8yxUeWZ1P"
      },
      "outputs": [],
      "source": [
        "#First we download our data from github\n",
        "#Although Colab can mount your GoogleDrive it is a pain and actually quicker to access files from your Github account.\n",
        "import pandas as pd\n",
        "df =pd.read_csv(\"https://github.com/sladem-tox/Resbaz-slade/raw/main/molecule_Phenethylamines_valid.csv\")"
      ]
    },
    {
      "cell_type": "code",
      "execution_count": null,
      "metadata": {
        "id": "WZydMDBrWo-c"
      },
      "outputs": [],
      "source": [
        "######\n",
        "######"
      ]
    },
    {
      "cell_type": "code",
      "execution_count": null,
      "metadata": {
        "id": "g8thiBy9YFDN"
      },
      "outputs": [],
      "source": [
        "!pip install rdkit"
      ]
    },
    {
      "cell_type": "code",
      "execution_count": null,
      "metadata": {
        "id": "rBQb4szkYOat"
      },
      "outputs": [],
      "source": [
        "#Add a molecule column and make sure RDkt can convert all SMILES\n",
        "from rdkit import Chem, DataStructs\n",
        "from rdkit.Chem import PandasTools, AllChem\n",
        "######\n",
        "######"
      ]
    },
    {
      "cell_type": "code",
      "execution_count": null,
      "metadata": {
        "id": "MI7p_x6DYXoA"
      },
      "outputs": [],
      "source": [
        "#Check for smiles that rdkit can't convert to molecule. If sum = 0 then they are all OK\n",
        "######"
      ]
    },
    {
      "cell_type": "code",
      "execution_count": null,
      "metadata": {
        "id": "DBc_rtZfZb9y"
      },
      "outputs": [],
      "source": [
        "#Define function to generate fp's from SMILES\n",
        "#Here we are producing a Morgan FP with radius 2 and calling for 1024 bits.\n",
        "import numpy as np\n",
        "def mol2fp(mol):\n",
        "    fp = AllChem.GetHashedMorganFingerprint(mol, 2, nBits=1024)\n",
        "    ar = np.zeros((1,), dtype=np.int8)\n",
        "    DataStructs.ConvertToNumpyArray(fp, ar)\n",
        "    return ar"
      ]
    },
    {
      "cell_type": "code",
      "execution_count": null,
      "metadata": {
        "id": "z4IxtcVSZ1Lo"
      },
      "outputs": [],
      "source": [
        "# Demonstrate that the function \"mol2fp\" is working with a single SMILES.\n",
        "######\n",
        "######"
      ]
    },
    {
      "cell_type": "code",
      "execution_count": null,
      "metadata": {
        "id": "jQNKltXAZ9Pw"
      },
      "outputs": [],
      "source": [
        "# Now use the mol2fp function to genereate fingerprints for all rdkit molecule objects.\n",
        "# Here we are creating a new column called FPs in the dataframe df and applying the mol2fp function to it.\n",
        "######\n",
        "######"
      ]
    },
    {
      "cell_type": "markdown",
      "metadata": {
        "id": "idO7EUDWdYsF"
      },
      "source": [
        "# Chapter 2: About fingerprints"
      ]
    },
    {
      "cell_type": "markdown",
      "source": [
        "<img src=\"https://github.com/sladem-tox/Resbaz-slade/blob/main/FingerPrint.jpg?raw=true\" alt=\"Fingerprint\" width=\"550\"/>"
      ],
      "metadata": {
        "id": "2bEcTkGDfgFm"
      }
    },
    {
      "cell_type": "markdown",
      "metadata": {
        "id": "qBP-kD82eY8a"
      },
      "source": [
        "A chemical fingerprint is an identifying description of a molecule created by interogating the molecule and listing its features. The list of features is encoded as a series of \"bits\" which take the value one if the feature is present and zero if the molecule doesn't have the feature corresponding to that bit in the list.\n",
        "\n",
        "HERE is a fantastic video by Greg Landrum the author of rdkit explaining how it works and what fingerprints are.\n",
        "https://www.youtube.com/watch?v=ERvUf_lNopo&t=13s\n",
        "\n",
        "Also note that there are lots of ways to generate fingerprints. Here is a link to a tool that can generate some other types beyond those available in rdkit.\n",
        "https://github.com/hcji/PyFingerprint\n",
        "\n",
        "HERE are a couple of the code examples Greg used in his video:\n"
      ]
    },
    {
      "cell_type": "code",
      "execution_count": null,
      "metadata": {
        "id": "JaqgT4X-6MLF"
      },
      "outputs": [],
      "source": [
        "# Take a few molecule objects from our dataframe\n",
        "mol_list = df['Molecule'].head(3).tolist()"
      ]
    },
    {
      "cell_type": "code",
      "execution_count": null,
      "metadata": {
        "id": "NtutZfkb6lcL"
      },
      "outputs": [],
      "source": [
        "# Now we can draw these and inspect them.\n",
        "from rdkit import Chem\n",
        "from rdkit.Chem import Draw\n",
        "from rdkit.Chem.Draw import IPythonConsole\n",
        "from rdkit.Chem import Descriptors\n",
        "from rdkit.Chem import AllChem\n",
        "from rdkit import DataStructs\n",
        "######\n",
        "######"
      ]
    },
    {
      "cell_type": "code",
      "execution_count": null,
      "metadata": {
        "id": "3JmcdrMa8IqZ"
      },
      "outputs": [],
      "source": [
        "# Now take the second molecule, 2,5-dimethoxy-4-chloroamphetamine, which we will call Dimethoxy4C for short.\n",
        "######"
      ]
    },
    {
      "cell_type": "code",
      "execution_count": null,
      "metadata": {
        "id": "suvlNLAG8B7U"
      },
      "outputs": [],
      "source": [
        "# Here we generate a fingerprint for Dimethoxy4C and display each \"bit\" that is \"on\"\n",
        "bi = {}\n",
        "\n",
        "fp = AllChem.GetMorganFingerprintAsBitVect(Dimethoxy4C, 2, nBits=1024, bitInfo=bi)\n",
        "fp_arr = np.zeros((1,))\n",
        "DataStructs.ConvertToNumpyArray(fp, fp_arr)\n",
        "np.nonzero(fp_arr)\n",
        "list(fp.GetOnBits())"
      ]
    },
    {
      "cell_type": "code",
      "execution_count": null,
      "metadata": {
        "id": "wsbHzYvx9Bh9"
      },
      "outputs": [],
      "source": [
        "# Here we draw each part of Dimethoxy4C corresponding to the \"on\" bits.\n",
        "######\n",
        "######"
      ]
    },
    {
      "cell_type": "code",
      "execution_count": null,
      "metadata": {
        "id": "09itfPxcb5G-"
      },
      "outputs": [],
      "source": [
        "# Now we want to extract the fingerprints into seperate columns for modelling.\n",
        "######\n",
        "######"
      ]
    },
    {
      "cell_type": "code",
      "execution_count": null,
      "metadata": {
        "id": "n111icM0cF5c"
      },
      "outputs": [],
      "source": [
        "#Bring back the outcome column\n",
        "fp_df.insert(1024, \"LogA\", df[\"LogA\"])\n",
        "fp_df.head(2)"
      ]
    },
    {
      "cell_type": "code",
      "execution_count": null,
      "metadata": {
        "id": "buesPAMddkvD"
      },
      "outputs": [],
      "source": [
        "# Bring back the name column for later use\n",
        "fp_df.insert(0, \"Name\", df[\"Name\"])\n",
        "fp_df.head(2)"
      ]
    },
    {
      "cell_type": "markdown",
      "metadata": {
        "id": "16neUu4Vdoz3"
      },
      "source": [
        "# Chapter 3: Now we want some training sets and test sets and do some modelling"
      ]
    },
    {
      "cell_type": "code",
      "execution_count": null,
      "metadata": {
        "id": "EjORVTuleM5v"
      },
      "outputs": [],
      "source": [
        "#Load data from pandas dataframe\n",
        "######\n",
        "######"
      ]
    },
    {
      "cell_type": "code",
      "execution_count": null,
      "metadata": {
        "id": "Kivntyw3jCnc"
      },
      "outputs": [],
      "source": [
        "# Show first two lines of x\n",
        "######"
      ]
    },
    {
      "cell_type": "code",
      "source": [
        "#What is the shape of y?\n",
        "######"
      ],
      "metadata": {
        "id": "JxL-7C4FSJoz"
      },
      "execution_count": null,
      "outputs": []
    },
    {
      "cell_type": "code",
      "execution_count": null,
      "metadata": {
        "id": "52vFIqL-jvzI"
      },
      "outputs": [],
      "source": [
        "# sklearn has a nice tool for setting up training and testing sets in data modelling projects.\n",
        "# Here we are splitting the data into 85% training data and 15% test data where x indicates the set of descriptor variables\n",
        "# and y indicates the set of target values i.e. logA in this case.\n",
        "\n",
        "from sklearn.ensemble import RandomForestRegressor\n",
        "from sklearn.datasets import make_regression\n",
        "from sklearn.metrics import mean_squared_error\n",
        "from sklearn.model_selection import train_test_split\n",
        "from sklearn import set_config\n",
        "\n",
        "######"
      ]
    },
    {
      "cell_type": "markdown",
      "metadata": {
        "id": "0h8Yn9A0kafn"
      },
      "source": [
        "## About Models\n",
        "\n",
        "There are an infinite amount of ways to find the mathematical relationship between chemical descriptors and biological activity.\n",
        "Here we will consider some regression models available in the Scikitlearn Python library. You might want to develop a more sophisticated model such as a neural network in which case I would suggest checking out Pytorch:\n",
        "https://pytorch.org/\n"
      ]
    },
    {
      "cell_type": "code",
      "execution_count": null,
      "metadata": {
        "id": "n74HHN1wj-zr"
      },
      "outputs": [],
      "source": [
        "# Since the logA is a scalar variable (non-binary) we want to do some kind of regression to model it.\n",
        "#https://scikit-learn.org/stable/modules/generated/sklearn.ensemble.RandomForestRegressor.html\n",
        "\n",
        "######\n",
        "######"
      ]
    },
    {
      "cell_type": "code",
      "execution_count": null,
      "metadata": {
        "id": "ullcgXhFzuc4"
      },
      "outputs": [],
      "source": [
        "print(\"Training Performance Statistics\")\n",
        "print(\"-------------------------------\")\n",
        "score = rfr.score(xtrain, ytrain)\n",
        "print(\"R-squared:\", score)\n",
        "\n",
        "######\n",
        "\n",
        "mse = mean_squared_error(ytest, ypred)\n",
        "print(\"MSE: \", mse)\n",
        "print(\"RMSE: \", mse**(1/2.0))"
      ]
    },
    {
      "cell_type": "code",
      "execution_count": null,
      "metadata": {
        "id": "D4PjKT150MQD"
      },
      "outputs": [],
      "source": [
        "import numpy as np\n",
        "import matplotlib.pyplot as plt\n",
        "\n",
        "######\n",
        "######\n",
        "######\n",
        "\n",
        "#Find axis dimensions for scatter plot\n",
        "import math\n",
        "max_dim = math.ceil(max(x.max(),y.max())) +1\n",
        "min_dim = math.floor(min(x.min(), y.min())) -1\n",
        "\n",
        "plt.scatter(x, y)\n",
        "plt.ylim([min_dim, max_dim])\n",
        "plt.xlim([min_dim, max_dim])\n",
        "plt.plot(x, a*x+b)\n",
        "plt.title(\"Phenethylamine Psychedelic Activity Prediction\")\n",
        "plt.xlabel('Test Set Log A Values')\n",
        "plt.ylabel('Predicted LogA Values')\n",
        "# The optional line below saves the figure to file as an eps vector graphic as required in many journals.\n",
        "# If you can't open in try using Acrobat, it will be able to read the postcript.\n",
        "plt.savefig('phenethylamine_predictions.eps', format='eps')\n"
      ]
    },
    {
      "cell_type": "code",
      "execution_count": null,
      "metadata": {
        "id": "NTwt-qRB0Aee"
      },
      "outputs": [],
      "source": [
        "print(\"Testset Prediction Performance\")\n",
        "print(\"------------------------------\")\n",
        "correlation = np.corrcoef(x, y)[0,1]\n",
        "print(\"Correlation:\", correlation)\n",
        "#R-square for Test Set results (above is R-square for training results)\n",
        "rsquare = correlation**2\n",
        "print(\"Testset Rsquare:\", rsquare)"
      ]
    },
    {
      "cell_type": "markdown",
      "metadata": {
        "id": "04YJ4uq5dyPZ"
      },
      "source": [
        "# Chapter 4: What if I want to use the model later to predict how trippy our new molecule is?"
      ]
    },
    {
      "cell_type": "code",
      "execution_count": null,
      "metadata": {
        "id": "i2D__cYtAAzm"
      },
      "outputs": [],
      "source": [
        "# joblib can be used to save and load trained models.\n",
        "# This is called pickelling the model so they are called dot pkl files.\n",
        "import joblib\n",
        "\n",
        "######"
      ]
    },
    {
      "cell_type": "code",
      "execution_count": null,
      "metadata": {
        "id": "QyfQxHjpAT6Q"
      },
      "outputs": [],
      "source": [
        "# load the model\n",
        "model = joblib.load('/content/psychedelics.pkl')"
      ]
    },
    {
      "cell_type": "code",
      "execution_count": null,
      "metadata": {
        "id": "C_K_V0MkAZkN"
      },
      "outputs": [],
      "source": [
        "# Here we use the mol2fp function from above to convert a smiles string into a morgan fingerprint with radius 2.\n",
        "test_smi = (\"CCCNCCCCC\")\n",
        "\n",
        "######\n",
        "######\n"
      ]
    },
    {
      "cell_type": "code",
      "execution_count": null,
      "metadata": {
        "id": "9UFz5xkZBEsY"
      },
      "outputs": [],
      "source": [
        "# Finally, we use model.predict to output a predicted value for logA.\n",
        "\n",
        "######"
      ]
    },
    {
      "cell_type": "markdown",
      "metadata": {
        "id": "9UnAqB1Yq59E"
      },
      "source": [
        "# Chapter 5: Afterward"
      ]
    },
    {
      "cell_type": "markdown",
      "metadata": {
        "id": "DZzEt6p7sYWE"
      },
      "source": [
        "Of course all the code above is only a demonstration and you would need to do a whole lot more development and testing before you would finish up with a reliable predictive model. The reality is that data curation and question formulation are 90% of the work and the modelling is the fun part! There are many ways to represent molecules (different fingerprints, chemcial descriptors, DFT parameters) and many ways to represent the mathematical relationships between structure and activity, and finally, many ways to test the predictive capability of a new model. What we have learned, however, is how powerful cloud-based resources can be used for demonstrating and sharing computing techniques and we have learned a few nice Python tricks for cheminformatic analysis."
      ]
    },
    {
      "cell_type": "markdown",
      "metadata": {
        "id": "f2j853LRe546"
      },
      "source": [
        "## Bonus material!\n",
        "Another cool thing that you can do in Google colab with rdkit and Python is use it to draw (as seen above) and identify molecules. Here is some code to interrogate a smiles string and find out the name of the molecule by accessing PubChem online. Things like this and the molecule drawing code are handy to keep in a google colab sheet in your Google drive for molecule rangling!"
      ]
    },
    {
      "cell_type": "code",
      "execution_count": null,
      "metadata": {
        "id": "kYfZ2MOTe5iT"
      },
      "outputs": [],
      "source": [
        "# First we install pubchempy\n",
        "!pip install pubchempy"
      ]
    },
    {
      "cell_type": "code",
      "execution_count": null,
      "metadata": {
        "id": "bzpPhCrLfSx4"
      },
      "outputs": [],
      "source": [
        "# Here is an example smiles structure we might be given to investigate\n",
        "SMILES = \"CN1[C@H]2CC[C@@H]1[C@H]([C@H](C2)OC(=O)C3=CC=CC=C3)C(=O)OC\""
      ]
    },
    {
      "cell_type": "markdown",
      "source": [
        "What have they given us? From the code above we learned how to draw a molecule from smiles using rdkit. Let's draw our new molecule here. Can you tell what we have been given from the molecular structure?"
      ],
      "metadata": {
        "id": "DsE7NAFrkEsH"
      }
    },
    {
      "cell_type": "code",
      "source": [
        "from rdkit import Chem\n",
        "from rdkit.Chem import Draw\n",
        "\n",
        "######\n",
        "######"
      ],
      "metadata": {
        "id": "WJzb3w2uj_oV"
      },
      "execution_count": null,
      "outputs": []
    },
    {
      "cell_type": "markdown",
      "source": [
        "Maybe you can... but many would not be able to identify this structure. So let's see what we have here by asking PubChem."
      ],
      "metadata": {
        "id": "pxV1mrtNkw60"
      }
    },
    {
      "cell_type": "code",
      "execution_count": null,
      "metadata": {
        "id": "bJjgv7k2fTgF"
      },
      "outputs": [],
      "source": [
        "import pubchempy as pcp\n",
        "\n",
        "# Get the compound information by SMILES\n",
        "\n",
        "######\n",
        "\n",
        "# Check if any compounds were found\n",
        "if drug:\n",
        "    # Extract the compound ID from the format \"[compound(3715)]\"\n",
        "    compound_id = drug[0].to_dict()['cid']\n",
        "\n",
        "    # Use the compound ID to fetch compound information\n",
        "    c = pcp.Compound.from_cid(compound_id)\n",
        "\n",
        "    # Check if the compound information was retrieved successfully\n",
        "    if c:\n",
        "        # Print synonyms for the compound\n",
        "        print(c.synonyms)\n",
        "    else:\n",
        "        print(f\"Compound with CID {compound_id} not found.\")\n",
        "else:\n",
        "    print(\"No compounds found for the given SMILES string.\")\n"
      ]
    },
    {
      "cell_type": "markdown",
      "metadata": {
        "id": "Vz9v3YwYiViS"
      },
      "source": [
        "# References\n",
        "\n",
        "`Keshavarz, M.H., Z. Shirazi, and M.A. Rezayat, A simple method for assessing the psychotomimetic activity of the substituted phenethylamines. Zeitschrift für anorganische und allgemeine Chemie, 2021. 647(6): p. 651-662.`\n",
        "\n",
        "`Thakur, M., A. Thakur, and P.V. Khadikar, QSAR studies on psychotomimetic phenylalkylamines. Bioorg Med Chem, 2004. 12(4): p. 825-31.`\n",
        "\n",
        "`Greg Landrum's video: https://www.youtube.com/watch?v=ERvUf_lNopo&t=13s`\n"
      ]
    }
  ],
  "metadata": {
    "colab": {
      "collapsed_sections": [
        "dYKTSDP8zEjg",
        "tmBZzVyJdLqc",
        "idO7EUDWdYsF",
        "16neUu4Vdoz3",
        "04YJ4uq5dyPZ",
        "9UnAqB1Yq59E",
        "f2j853LRe546"
      ],
      "provenance": [],
      "authorship_tag": "ABX9TyOe92VgqooPTnyinDTJ0OUN",
      "include_colab_link": true
    },
    "kernelspec": {
      "display_name": "Python 3",
      "name": "python3"
    },
    "language_info": {
      "name": "python"
    }
  },
  "nbformat": 4,
  "nbformat_minor": 0
}